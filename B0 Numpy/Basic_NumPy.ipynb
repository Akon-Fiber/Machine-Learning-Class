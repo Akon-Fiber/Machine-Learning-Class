{
 "cells": [
  {
   "cell_type": "code",
   "execution_count": 1,
   "metadata": {},
   "outputs": [
    {
     "name": "stdout",
     "output_type": "stream",
     "text": [
      "[ 0.3302401   0.82472352  0.57807805  0.1775024   0.72527737]\n"
     ]
    }
   ],
   "source": [
    "import numpy as np\n",
    "\n",
    "# Make random 1D numpy array\n",
    "a = np.random.rand(5)\n",
    "print(a)"
   ]
  },
  {
   "cell_type": "code",
   "execution_count": 2,
   "metadata": {},
   "outputs": [
    {
     "name": "stdout",
     "output_type": "stream",
     "text": [
      "(5,)\n"
     ]
    }
   ],
   "source": [
    "# Print the shape of numpy array\n",
    "print(a.shape)"
   ]
  },
  {
   "cell_type": "code",
   "execution_count": 3,
   "metadata": {},
   "outputs": [
    {
     "name": "stdout",
     "output_type": "stream",
     "text": [
      "1.68093600436\n"
     ]
    }
   ],
   "source": [
    "# Dot product of 1D array\n",
    "b = np.dot(a,a)\n",
    "print(b)"
   ]
  },
  {
   "cell_type": "code",
   "execution_count": 4,
   "metadata": {},
   "outputs": [
    {
     "name": "stdout",
     "output_type": "stream",
     "text": [
      "[ 0.3302401   0.82472352  0.57807805  0.1775024   0.72527737]\n",
      "Nothing happens eh? Transpose doesn't work for 1D!\n"
     ]
    }
   ],
   "source": [
    "# Transpose a numpy array\n",
    "c = a.T\n",
    "print(c)\n",
    "print(\"Nothing happens eh? There's no transpose for 1D! 1D numpy array is always represetented as row vector\")"
   ]
  },
  {
   "cell_type": "code",
   "execution_count": 5,
   "metadata": {},
   "outputs": [
    {
     "name": "stdout",
     "output_type": "stream",
     "text": [
      "[[ 0.19176363  0.23078602]\n",
      " [ 0.11612489  0.49110749]\n",
      " [ 0.19700501  0.08965571]]\n"
     ]
    }
   ],
   "source": [
    "# Make a numpy array with shape (3,2) -> 3 row 2 columns\n",
    "d = np.random.rand(3,2)\n",
    "print(d)"
   ]
  },
  {
   "cell_type": "code",
   "execution_count": 6,
   "metadata": {},
   "outputs": [
    {
     "name": "stdout",
     "output_type": "stream",
     "text": [
      "[[ 0.09003548  0.13560927  0.05846968]\n",
      " [ 0.13560927  0.25467156  0.06690778]\n",
      " [ 0.05846968  0.06690778  0.04684912]]\n"
     ]
    }
   ],
   "source": [
    "# Multiply an 3x2 array by 2x3 array -> 3x3 array\n",
    "e = np.dot(d, d.T)\n",
    "print(e)"
   ]
  },
  {
   "cell_type": "code",
   "execution_count": 7,
   "metadata": {},
   "outputs": [
    {
     "name": "stdout",
     "output_type": "stream",
     "text": [
      "[[ 0.09003548]\n",
      " [ 0.13560927]\n",
      " [ 0.05846968]\n",
      " [ 0.13560927]\n",
      " [ 0.25467156]\n",
      " [ 0.06690778]\n",
      " [ 0.05846968]\n",
      " [ 0.06690778]\n",
      " [ 0.04684912]]\n"
     ]
    }
   ],
   "source": [
    "# Reshape array e to 9x1 array \n",
    "f = e.reshape(9,1)\n",
    "print(f)"
   ]
  },
  {
   "cell_type": "code",
   "execution_count": null,
   "metadata": {
    "collapsed": true
   },
   "outputs": [],
   "source": []
  }
 ],
 "metadata": {
  "kernelspec": {
   "display_name": "Python 3",
   "language": "python",
   "name": "python3"
  },
  "language_info": {
   "codemirror_mode": {
    "name": "ipython",
    "version": 3
   },
   "file_extension": ".py",
   "mimetype": "text/x-python",
   "name": "python",
   "nbconvert_exporter": "python",
   "pygments_lexer": "ipython3",
   "version": "3.5.2"
  }
 },
 "nbformat": 4,
 "nbformat_minor": 2
}
